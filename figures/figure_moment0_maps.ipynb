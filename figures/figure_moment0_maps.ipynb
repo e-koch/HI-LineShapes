{
 "cells": [
  {
   "cell_type": "markdown",
   "metadata": {},
   "source": [
    "Create a two-panel figure with the zeroth moment maps.\n",
    "\n",
    "Given the nature of the paper, I plan on keeping the units in K km/s."
   ]
  },
  {
   "cell_type": "code",
   "execution_count": null,
   "metadata": {},
   "outputs": [],
   "source": [
    "%matplotlib inline\n",
    "\n",
    "from astropy.io import fits\n",
    "from astropy.wcs import WCS\n",
    "import astropy.units as u\n",
    "import os\n",
    "import numpy as np\n",
    "import matplotlib.pyplot as plt\n",
    "from spectral_cube import Projection\n",
    "from scipy import ndimage as nd\n",
    "from astropy.stats import histogram as astro_hist\n",
    "from tqdm import tqdm\n",
    "from corner import hist2d\n",
    "\n",
    "from astropy.visualization import AsinhStretch\n",
    "from astropy.visualization.mpl_normalize import ImageNormalize\n",
    "# from radio_beam import Beam\n",
    "from astropy.wcs.utils import proj_plane_pixel_area\n",
    "\n",
    "osjoin = os.path.join\n",
    "\n",
    "repo_path = os.path.expanduser(\"~/ownCloud/project_code/ThickHIFitting/\")\n",
    "\n",
    "figures_path_png = osjoin(repo_path, \"figures/png\")\n",
    "figures_path_pdf = osjoin(repo_path, \"figures/pdf\")\n",
    "\n",
    "\n",
    "def save_figure(fig, plot_name):\n",
    "    fig.savefig(f\"{figures_path_pdf}/{plot_name}.pdf\")\n",
    "    fig.savefig(f\"{figures_path_png}/{plot_name}.png\")\n",
    "\n",
    "\n",
    "paths_script = os.path.join(repo_path, \"paths.py\")\n",
    "exec(compile(open(paths_script, \"rb\").read(), paths_script, 'exec'))\n",
    "\n",
    "plotstyle_script = os.path.join(repo_path, \"plotting_styles.py\")\n",
    "exec(compile(open(plotstyle_script, \"rb\").read(), plotstyle_script, 'exec'))\n",
    "\n"
   ]
  },
  {
   "cell_type": "code",
   "execution_count": null,
   "metadata": {},
   "outputs": [],
   "source": [
    "# M31\n",
    "\n",
    "m31_cube = SpectralCube.read(fifteenA_HI_BCtaper_wEBHIS_HI_file_dict['Cube'])\n",
    "print(f'Opening cube {fifteenA_HI_BCtaper_wEBHIS_HI_file_dict[\"Cube\"]}')\n",
    "\n",
    "m31_vels = m31_cube.spectral_axis.to(u.m / u.s)\n",
    "      \n",
    "del m31_cube\n",
    "\n",
    "m31_mom0 = Projection.from_hdu(fits.open(fifteenA_HI_BCtaper_wEBHIS_HI_file_dict['Moment0'])).to(u.K * u.km / u.s)\n",
    "\n",
    "# Make custom slice so the array shapes are roughly the same in M33 and M31\n",
    "spat_slice_zoom_m31 = (slice(105, 1709), slice(347, 1603))"
   ]
  },
  {
   "cell_type": "code",
   "execution_count": null,
   "metadata": {},
   "outputs": [],
   "source": [
    "# M33\n",
    "\n",
    "cube_name = fourteenB_HI_data_wGBT_path(\"M33_14B-088_HI.clean.image.GBT_feathered.pbcov_gt_0.5_masked.fits\")\n",
    "\n",
    "downsamp_cube_name = f\"{cube_name.rstrip('.fits')}_0p42kms_K.fits\"\n",
    "        \n",
    "m33_cube = SpectralCube.read(downsamp_cube_name)\n",
    "print(f'Opening cube {downsamp_cube_name}')\n",
    "\n",
    "m33_vels = m33_cube.spectral_axis.to(u.m / u.s)\n",
    "      \n",
    "del m33_cube\n",
    "\n",
    "m33_mom0_name = \"M33_14B-088_HI.clean.image.GBT_feathered.pbcov_gt_0.5_masked.moment0_Kkms.fits\"\n",
    "m33_mom0 = Projection.from_hdu(fits.open(fourteenB_HI_data_wGBT_path(m33_mom0_name))).to(u.K * u.km / u.s)\n",
    "\n",
    "# Slice out to zoom into the valid data region.\n",
    "spat_slice_zoom_m33 = (slice(None), slice(None))"
   ]
  },
  {
   "cell_type": "code",
   "execution_count": null,
   "metadata": {},
   "outputs": [],
   "source": [
    "twocolumn_figure(font_scale=1.2)\n",
    "\n",
    "import matplotlib.colors as colors\n",
    "\n",
    "vmin = 0\n",
    "vmax = 3600\n",
    "\n",
    "# norm = colors.SymLogNorm(linthresh=100., linscale=0.2,\n",
    "#                          vmin=vmin, vmax=vmax)\n",
    "\n",
    "fig = plt.figure()\n",
    "\n",
    "ax = fig.add_subplot(121, projection=m31_mom0[spat_slice_zoom_m31].wcs)\n",
    "\n",
    "im = ax.imshow(m31_mom0[spat_slice_zoom_m31].value, # vmin=vmin, vmax=vmax,\n",
    "               cmap=plt.cm.binary,\n",
    "               alpha=1.)\n",
    "\n",
    "ax2 = fig.add_subplot(122, projection=m33_mom0[spat_slice_zoom_m33].wcs)\n",
    "\n",
    "# Scale to the 95% in image\n",
    "# vmin, vmax = np.nanpercentile(diff_bic_zoom_m33, [2.5, 97.5])\n",
    "\n",
    "im2 = ax2.imshow(m33_mom0[spat_slice_zoom_m33].value, # vmin=vmin, vmax=vmax,\n",
    "               cmap=plt.cm.binary,\n",
    "               alpha=1.)\n",
    "\n",
    "cbar = fig.colorbar(im, ax=[ax, ax2], location='top')\n",
    "\n",
    "cbar.set_label(r\"HI Integrated Intensity (K km s$^{-1}$)\", fontsize=15)\n",
    "\n",
    "xp = 0.8\n",
    "yp = 0.9\n",
    "\n",
    "bbox_props = dict(boxstyle='round', facecolor='white', alpha=1., edgecolor='k')\n",
    "\n",
    "ax.text(xp, yp, \"M31\", transform=ax.transAxes,\n",
    "        horizontalalignment='center',\n",
    "        verticalalignment='center',\n",
    "        bbox=bbox_props, fontsize=15)\n",
    "\n",
    "ax2.text(xp, yp, \"M33\", transform=ax2.transAxes,\n",
    "         horizontalalignment='center',\n",
    "         verticalalignment='center',\n",
    "         bbox=bbox_props, fontsize=15)\n",
    "\n",
    "\n",
    "# Add scale bars\n",
    "\n",
    "# M31\n",
    "length = (1. * u.kpc / (720 * u.kpc)).to(u.deg, u.dimensionless_angles())\n",
    "length_pix = length.value / np.abs(m33_mom0.header['CDELT2'])\n",
    "ax.plot([200, 200], [150 - length_pix / 2., 150 + length_pix / 2.], 'k',\n",
    "        linewidth=2)\n",
    "ax.text(200 - 20, 150,\n",
    "        \"1 kpc\", color='k', va='center', ha='right')\n",
    "\n",
    "# M33\n",
    "length = (1. * u.kpc / (840 * u.kpc)).to(u.deg, u.dimensionless_angles())\n",
    "length_pix = length.value / np.abs(m33_mom0.header['CDELT2'])\n",
    "ax2.plot([200, 200], [150 - length_pix / 2., 150 + length_pix / 2.], 'k',\n",
    "        linewidth=2)\n",
    "ax2.text(200 - 20, 150,\n",
    "        \"1 kpc\", color='k', va='center', ha='right')\n",
    "\n",
    "fig.subplots_adjust(right=0.95, left=0.05, bottom=0.05, top=0.75)\n",
    "\n",
    "save_figure(fig, 'm31_m33_integratedintensity_map')"
   ]
  },
  {
   "cell_type": "code",
   "execution_count": null,
   "metadata": {},
   "outputs": [],
   "source": [
    "np.nanmax(m31_mom0)"
   ]
  },
  {
   "cell_type": "code",
   "execution_count": null,
   "metadata": {},
   "outputs": [],
   "source": [
    "np.nanmax(m33_mom0)"
   ]
  },
  {
   "cell_type": "code",
   "execution_count": null,
   "metadata": {},
   "outputs": [],
   "source": [
    "m31_mom0.beam"
   ]
  },
  {
   "cell_type": "code",
   "execution_count": null,
   "metadata": {},
   "outputs": [],
   "source": [
    "m33_mom0.beam"
   ]
  },
  {
   "cell_type": "code",
   "execution_count": null,
   "metadata": {},
   "outputs": [],
   "source": [
    "m33_mom0.beam.major.to(u.arcsec).value * 4 * u.pc"
   ]
  },
  {
   "cell_type": "markdown",
   "metadata": {},
   "source": [
    "M33's inclination is ~55 degree. So along the minor axis, the scale is:"
   ]
  },
  {
   "cell_type": "code",
   "execution_count": null,
   "metadata": {},
   "outputs": [],
   "source": [
    "m33_mom0.beam.major.to(u.arcsec).value * 4 * u.pc / np.cos(55 * u.deg)"
   ]
  },
  {
   "cell_type": "code",
   "execution_count": null,
   "metadata": {},
   "outputs": [],
   "source": [
    "m31_mom0.beam.major.to(u.arcsec).value * 4 * u.pc * (720. / 840.)"
   ]
  },
  {
   "cell_type": "markdown",
   "metadata": {},
   "source": [
    "And along the the minor axis:"
   ]
  },
  {
   "cell_type": "code",
   "execution_count": null,
   "metadata": {},
   "outputs": [],
   "source": [
    "m31_mom0.beam.major.to(u.arcsec).value * 4 * u.pc * (720. / 840.) / np.cos(78 * u.deg)"
   ]
  },
  {
   "cell_type": "code",
   "execution_count": null,
   "metadata": {},
   "outputs": [],
   "source": []
  }
 ],
 "metadata": {
  "kernelspec": {
   "display_name": "Python 3",
   "language": "python",
   "name": "python3"
  },
  "language_info": {
   "codemirror_mode": {
    "name": "ipython",
    "version": 3
   },
   "file_extension": ".py",
   "mimetype": "text/x-python",
   "name": "python",
   "nbconvert_exporter": "python",
   "pygments_lexer": "ipython3",
   "version": "3.7.3"
  }
 },
 "nbformat": 4,
 "nbformat_minor": 2
}