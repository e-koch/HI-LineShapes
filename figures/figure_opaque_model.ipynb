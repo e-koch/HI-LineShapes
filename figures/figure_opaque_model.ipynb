{
 "metadata": {
  "language_info": {
   "codemirror_mode": {
    "name": "ipython",
    "version": 3
   },
   "file_extension": ".py",
   "mimetype": "text/x-python",
   "name": "python",
   "nbconvert_exporter": "python",
   "pygments_lexer": "ipython3",
   "version": "3.7.3-final"
  },
  "orig_nbformat": 2,
  "kernelspec": {
   "name": "python3",
   "display_name": "Python 3"
  }
 },
 "nbformat": 4,
 "nbformat_minor": 2,
 "cells": [
  {
   "source": [
    "Figure of different solution to the opaque HI model"
   ],
   "cell_type": "markdown",
   "metadata": {}
  },
  {
   "cell_type": "code",
   "execution_count": null,
   "metadata": {},
   "outputs": [],
   "source": [
    "\n",
    "%matplotlib inline\n",
    "\n",
    "from astropy.io import fits\n",
    "from astropy.wcs import WCS\n",
    "import astropy.units as u\n",
    "import os\n",
    "import numpy as np\n",
    "import matplotlib.pyplot as plt\n",
    "from spectral_cube import Projection\n",
    "from scipy import ndimage as nd\n",
    "from astropy.stats import histogram as astro_hist\n",
    "from tqdm import tqdm\n",
    "from corner import hist2d\n",
    "\n",
    "osjoin = os.path.join\n",
    "\n",
    "repo_path = os.path.expanduser(\"~/ownCloud/project_code/ThickHIFitting/\")\n",
    "\n",
    "figures_path_png = osjoin(repo_path, \"figures/png\")\n",
    "figures_path_pdf = osjoin(repo_path, \"figures/pdf\")\n",
    "\n",
    "\n",
    "def save_figure(fig, plot_name):\n",
    "    fig.savefig(f\"{figures_path_pdf}/{plot_name}.pdf\")\n",
    "    fig.savefig(f\"{figures_path_png}/{plot_name}.png\")\n",
    "\n",
    "\n",
    "paths_script = os.path.join(repo_path, \"paths.py\")\n",
    "exec(compile(open(paths_script, \"rb\").read(), paths_script, 'exec'))\n",
    "\n",
    "plotstyle_script = os.path.join(repo_path, \"plotting_styles.py\")\n",
    "exec(compile(open(plotstyle_script, \"rb\").read(), plotstyle_script, 'exec'))\n",
    "\n",
    "model_script = os.path.join(repo_path, \"gaussian_model.py\")\n",
    "exec(compile(open(model_script, \"rb\").read(), model_script, 'exec'))\n",
    "\n",
    "thickHI_model_script = os.path.join(repo_path, \"thickHI_model.py\")\n",
    "exec(compile(open(thickHI_model_script, \"rb\").read(),\n",
    "             thickHI_model_script, 'exec'))\n",
    "             "
   ]
  },
  {
   "cell_type": "code",
   "execution_count": null,
   "metadata": {},
   "outputs": [],
   "source": [
    "save_figures = True"
   ]
  },
  {
   "cell_type": "code",
   "execution_count": null,
   "metadata": {},
   "outputs": [],
   "source": [
    "def gaussian(vels, amp, vcent, sigma):\n",
    "    return amp * np.exp(- 0.5 * ((vels - vcent) / sigma)**2)"
   ]
  },
  {
   "cell_type": "code",
   "execution_count": null,
   "metadata": {},
   "outputs": [],
   "source": [
    "vels = np.arange(-40, 40.2, 0.42) * u.km / u.s\n",
    "vels"
   ]
  },
  {
   "cell_type": "code",
   "execution_count": null,
   "metadata": {},
   "outputs": [],
   "source": [
    "Tspin = 10**1.7 * u.K\n",
    "# Tspin = 10**2 * u.K\n",
    "\n",
    "c_s = np.sqrt(c.k_B * Tspin / (1.4 * c.m_p)).to(u.km / u.s)\n",
    "\n",
    "sigma_nt = 4 * u.km / u.s\n",
    "# sigma_nt = 12 * u.km / u.s\n",
    "sigma = np.sqrt(sigma_nt**2 + c_s**2)\n",
    "\n",
    "NHI = 1e22 * u.cm**-2\n",
    "\n",
    "Tpeak = (5.49e-19 * NHI.value / (np.sqrt(2 * np.pi) * sigma.value)) * u.K\n",
    "\n",
    "print(Tpeak)\n",
    "\n",
    "# Tpeak = 200. * u.K\n",
    "\n",
    "print(c_s)\n",
    "print(sigma)\n",
    "\n",
    "vcent = 0.0 * u.km / u.s\n"
   ]
  },
  {
   "cell_type": "code",
   "execution_count": null,
   "metadata": {},
   "outputs": [],
   "source": [
    "mod_thickHI = isoturbHI_simple(vels.to(u.km / u.s),\n",
    "                               Tspin,\n",
    "                               sigma,\n",
    "                               Tpeak,\n",
    "                               vcent)\n",
    "\n",
    "mod_thinHI = gaussian(vels, Tpeak, vcent, sigma)\n",
    "\n",
    "mod_thickHI_tau = mod_thinHI / Tspin"
   ]
  },
  {
   "cell_type": "code",
   "execution_count": null,
   "metadata": {},
   "outputs": [],
   "source": [
    "opaque_vels = vels[np.where(mod_thickHI_tau.value > 1)[0]]\n",
    "\n",
    "print(opaque_vels[0], opaque_vels[-1])"
   ]
  },
  {
   "cell_type": "code",
   "execution_count": null,
   "metadata": {},
   "outputs": [],
   "source": [
    "plt.plot(vels.value, mod_thickHI)\n",
    "plt.plot(vels.value, mod_thinHI)"
   ]
  },
  {
   "cell_type": "code",
   "execution_count": null,
   "metadata": {},
   "outputs": [],
   "source": [
    "onecolumn_figure()\n",
    "\n",
    "plt.plot(vels.value, mod_thickHI)\n",
    "\n",
    "plt.grid(True)\n",
    "\n",
    "plt.ylabel(\"Brightness Temperature (K)\")\n",
    "plt.xlabel(r\"Velocity (km s$^{-1}$\")\n"
   ]
  },
  {
   "cell_type": "code",
   "execution_count": null,
   "metadata": {},
   "outputs": [],
   "source": [
    "onecolumn_twopanel_figure()\n",
    "\n",
    "fig, axs = plt.subplots(2, 1)\n",
    "\n",
    "axs[0].plot(vels.value, mod_thickHI)\n",
    "\n",
    "axs[0].set_ylabel(\"Brightness Temperature (K)\")\n",
    "\n",
    "axs[1].plot(vels.value, mod_thickHI_tau)\n",
    "\n",
    "axs[1].set_ylabel(r\"HI Optical Depth $\\tau$\")\n",
    "\n",
    "axs[1].set_xlabel(r\"Velocity (km s$^{-1}$\")\n",
    "\n",
    "axs[0].grid(True)\n",
    "axs[1].grid(True)\n",
    "\n",
    "axs[0].axvline(opaque_vels[0].value, alpha=0.5, linewidth=4, color='orange')\n",
    "axs[0].axvline(opaque_vels[-1].value, alpha=0.5, linewidth=4, color='orange')\n",
    "axs[1].axvline(opaque_vels[0].value, alpha=0.5, linewidth=4, color='orange')\n",
    "axs[1].axvline(opaque_vels[-1].value, alpha=0.5, linewidth=4, color='orange')\n",
    "\n",
    "axs[1].axhline(1., alpha=0.5, linewidth=4, color='orange')\n",
    "# axs[1].text(-30, 1.4, r\"$\\tau=1$\", color='orange', fontsize=15)\n",
    "axs[1].text(-35, 1.4, r\"$\\tau=1$\", color='k', fontsize=15)\n",
    "\n",
    "fig.subplots_adjust(hspace=0.05)\n",
    "\n",
    "if save_figures:\n",
    "    save_figure(fig, \"opaque_hi_model_example_withopacity\")\n"
   ]
  },
  {
   "cell_type": "code",
   "execution_count": null,
   "metadata": {},
   "outputs": [],
   "source": []
  }
 ]
}