{
 "metadata": {
  "language_info": {
   "codemirror_mode": {
    "name": "ipython",
    "version": 3
   },
   "file_extension": ".py",
   "mimetype": "text/x-python",
   "name": "python",
   "nbconvert_exporter": "python",
   "pygments_lexer": "ipython3",
   "version": "3.7.3-final"
  },
  "orig_nbformat": 2,
  "kernelspec": {
   "name": "python3",
   "display_name": "Python 3",
   "language": "python"
  }
 },
 "nbformat": 4,
 "nbformat_minor": 2,
 "cells": [
  {
   "cell_type": "code",
   "execution_count": null,
   "metadata": {},
   "outputs": [],
   "source": [
    "'''\n",
    "Figure of the BIC for the full cube models.\n",
    "'''\n",
    "\n",
    "%matplotlib inline\n",
    "\n",
    "from astropy.io import fits\n",
    "from astropy.wcs import WCS\n",
    "import astropy.units as u\n",
    "from astropy.convolution import Gaussian1DKernel\n",
    "\n",
    "import os\n",
    "import numpy as np\n",
    "import matplotlib.pyplot as plt\n",
    "from spectral_cube import Projection\n",
    "from scipy import ndimage as nd\n",
    "from astropy.stats import histogram as astro_hist\n",
    "from tqdm import tqdm\n",
    "from corner import hist2d\n",
    "\n",
    "from dask.diagnostics import ProgressBar\n",
    "pbar = ProgressBar()\n",
    "pbar.register()\n",
    "\n",
    "osjoin = os.path.join\n",
    "\n",
    "repo_path = os.path.expanduser(\"~/ownCloud/project_code/ThickHIFitting/\")\n",
    "\n",
    "figures_path_png = osjoin(repo_path, \"figures/png\")\n",
    "figures_path_pdf = osjoin(repo_path, \"figures/pdf\")\n",
    "\n",
    "\n",
    "def save_figure(fig, plot_name, **kwargs):\n",
    "    fig.savefig(f\"{figures_path_pdf}/{plot_name}.pdf\", **kwargs)\n",
    "    fig.savefig(f\"{figures_path_png}/{plot_name}.png\", **kwargs)\n",
    "\n",
    "\n",
    "paths_script = os.path.join(repo_path, \"paths.py\")\n",
    "exec(compile(open(paths_script, \"rb\").read(), paths_script, 'exec'))\n",
    "\n",
    "plotstyle_script = os.path.join(repo_path, \"plotting_styles.py\")\n",
    "exec(compile(open(plotstyle_script, \"rb\").read(), plotstyle_script, 'exec'))\n",
    "\n",
    "model_script = os.path.join(repo_path, \"gaussian_model.py\")\n",
    "exec(compile(open(model_script, \"rb\").read(), model_script, 'exec'))\n",
    "\n",
    "thickHI_model_script = os.path.join(repo_path, \"thickHI_model.py\")\n",
    "exec(compile(open(thickHI_model_script, \"rb\").read(),\n",
    "             thickHI_model_script, 'exec'))\n"
   ]
  },
  {
   "cell_type": "code",
   "execution_count": null,
   "metadata": {},
   "outputs": [],
   "source": [
    "# Enable/disable saving figures\n",
    "save_figures = True"
   ]
  },
  {
   "cell_type": "code",
   "execution_count": null,
   "metadata": {},
   "outputs": [],
   "source": [
    "# M31\n",
    "\n",
    "m31_cubename_K = f\"{fifteenA_HI_BCtaper_wEBHIS_HI_file_dict['Cube'].rstrip('.fits')}_K.fits\"\n",
    "\n",
    "m31_cube = SpectralCube.read(m31_cubename_K, use_dask=True)\n",
    "print(f'Opening cube {m31_cubename_K}')\n",
    "\n",
    "m31_vels = m31_cube.spectral_axis.to(u.m / u.s)\n",
    "      \n",
    "# del m31_cube\n",
    "\n",
    "m31_mom0 = Projection.from_hdu(fits.open(fifteenA_HI_BCtaper_wEBHIS_HI_file_dict['Moment0'])).to(u.K * u.km / u.s)\n",
    "      \n",
    "m31_multigauss_name = fifteenA_HI_BCtaper_04kms_data_wEBHIS_path(\"individ_multigaussian_gausspy_fits_neighbcheck2_nomw.fits\")\n",
    "# m31_multigauss_name = fifteenA_HI_BCtaper_04kms_data_wEBHIS_path(\"individ_multigaussian_gausspy_fits_neighbcheck2.fits\")\n",
    "m31_multigauss_hdu = fits.open(m31_multigauss_name)\n",
    "\n",
    "m31_ngauss = np.isfinite(m31_multigauss_hdu[0].data).sum(0) // 3\n",
    "\n",
    "m31_thickHI_name = fifteenA_HI_BCtaper_04kms_data_wEBHIS_path(\"individ_simplethick_HI_fits_5kms_centlimit.fits\")\n",
    "m31_thickHI_hdu = fits.open(m31_thickHI_name)\n",
    "\n",
    "m31_thickHI80_name = fifteenA_HI_BCtaper_04kms_data_wEBHIS_path(\"individ_simplethick_HI_fits_80kms_centlimit.fits\")\n",
    "m31_thickHI80_hdu = fits.open(m31_thickHI_name)\n",
    "\n",
    "# Keep only where the fit parameters are valid\n",
    "m31_multigauss_hdu[2].data[m31_ngauss == 0] = np.NaN\n",
    "\n",
    "m31_multigauss_bic_proj = Projection.from_hdu(m31_multigauss_hdu[2])\n",
    "      \n",
    "# Split the different fit statistics\n",
    "m31_thickHI_bic_proj = Projection.from_hdu(fits.PrimaryHDU(m31_thickHI_hdu[2].data[0], m31_thickHI_hdu[2].header))\n",
    "m31_thickHI80_bic_proj = Projection.from_hdu(fits.PrimaryHDU(m31_thickHI80_hdu[2].data[0], m31_thickHI_hdu[2].header))\n",
    "      \n",
    "m31_thickHI_rchi_proj = Projection.from_hdu(fits.PrimaryHDU(m31_thickHI_hdu[2].data[2], m31_thickHI_hdu[2].header))\n",
    "m31_thickHI80_rchi_proj = Projection.from_hdu(fits.PrimaryHDU(m31_thickHI80_hdu[2].data[2], m31_thickHI_hdu[2].header))\n",
    "      \n",
    "# Lastly, the recomputed statistics limited to where tau > 0.5\n",
    "m31_modcompare_name = fifteenA_HI_BCtaper_04kms_data_wEBHIS_path(\"individ_recomp_bic_tau_gt_0p5_5kms_centlimit.fits\")\n",
    "m31_modcompare_hdu = fits.open(m31_modcompare_name)\n",
    "      \n",
    "m31_modcompare80_name = fifteenA_HI_BCtaper_04kms_data_wEBHIS_path(\"individ_recomp_bic_tau_gt_0p5_80kms_centlimit.fits\")\n",
    "m31_modcompare80_hdu = fits.open(m31_modcompare_name)\n",
    "      \n",
    "# Slice out to zoom into the valid data region.\n",
    "spat_slice_zoom_m31 = tuple([slice(vals.min() - 10, vals.max() + 10) for vals in\n",
    "                             np.where(np.isfinite(m31_multigauss_hdu[2].data))])\n",
    "print(spat_slice_zoom_m31)\n",
    "# Make custom slice so the array shapes are roughly the same in M33 and M31\n",
    "spat_slice_zoom_m31 = (slice(105, 1709), slice(347, 1603))"
   ]
  },
  {
   "cell_type": "code",
   "execution_count": null,
   "metadata": {},
   "outputs": [],
   "source": [
    "m31_cube"
   ]
  },
  {
   "cell_type": "code",
   "execution_count": null,
   "metadata": {},
   "outputs": [],
   "source": [
    "%matplotlib inline\n",
    "\n",
    "plt.imshow(m31_mom0.value, origin='lower')"
   ]
  },
  {
   "cell_type": "code",
   "execution_count": null,
   "metadata": {},
   "outputs": [],
   "source": [
    "region_slice = (slice(850, 1050), slice(900, 1100))\n",
    "\n",
    "plt.imshow(m31_mom0[region_slice].value, origin='lower')\n"
   ]
  },
  {
   "source": [
    "We're going use this $200^2$ pixels to spectrally degrade the data. Also we'll convolve to a lower resolution."
   ],
   "cell_type": "markdown",
   "metadata": {}
  },
  {
   "cell_type": "code",
   "execution_count": null,
   "metadata": {},
   "outputs": [],
   "source": [
    "# Load in the already made subcube from degraded_resolution_test_fits.py\n",
    "\n",
    "subcube_filename = fifteenA_HI_BCtaper_04kms_data_wEBHIS_path(\"match_braun09/M31_HI_subcube_K_30arcsec_2p4kms.fits\", no_check=True)\n",
    "\n",
    "matched_cube = SpectralCube.read(subcube_filename)"
   ]
  },
  {
   "cell_type": "code",
   "execution_count": null,
   "metadata": {},
   "outputs": [],
   "source": [
    "matched_cube"
   ]
  },
  {
   "cell_type": "code",
   "execution_count": null,
   "metadata": {},
   "outputs": [],
   "source": [
    "# Load in the subcube fit results\n",
    "\n",
    "hdu_thickHI_matched = fits.open(fifteenA_HI_BCtaper_04kms_data_wEBHIS_path(\"braun09_subcubes/matched_region_opaque_fit_comparisons.fits\"))\n",
    "\n",
    "hdu_mgauss_matched = fits.open(fifteenA_HI_BCtaper_04kms_data_wEBHIS_path(\"braun09_subcubes/matched_region_multigauss_fit_comparisons.fits\"))"
   ]
  },
  {
   "cell_type": "code",
   "execution_count": null,
   "metadata": {},
   "outputs": [],
   "source": [
    "orig_avgspec = m31_cube[(slice(None),) + region_slice].mean(axis=(1, 2))\n",
    "matched_avgspec = matched_cube.mean(axis=(1, 2))"
   ]
  },
  {
   "cell_type": "code",
   "execution_count": null,
   "metadata": {},
   "outputs": [],
   "source": [
    "# We'll now plot the Delta BIC as histograms between the original and the matched fits.\n",
    "# Show an example spectrum at high and low spec. res.\n",
    "\n",
    "onecolumn_twopanel_figure()\n",
    "\n",
    "fig, axs = plt.subplots(2, 1)\n",
    "\n",
    "# axs[0].plot(orig_avgspec.spectral_axis.to(u.km / u.s).value, orig_avgspec.value, drawstyle='steps-mid')\n",
    "# axs[0].plot(matched_avgspec.spectral_axis.to(u.km / u.s).value, matched_avgspec.value, drawstyle='steps-mid')\n",
    "\n",
    "ypix, xpix = 60, 195\n",
    "\n",
    "axs[0].plot(orig_avgspec.spectral_axis.to(u.km / u.s).value,\n",
    "            m31_cube[(slice(None),) + region_slice][:, ypix, xpix].value,\n",
    "            drawstyle='steps-mid')\n",
    "axs[0].plot(matched_avgspec.spectral_axis.to(u.km / u.s).value,\n",
    "            matched_cube[:, ypix, xpix].value,\n",
    "            drawstyle='steps-mid', linewidth=2)\n",
    "\n",
    "axs[0].set_xlim([-200, -80])\n",
    "\n",
    "axs[0].set_xlabel(\"Velocity (km s$^{-1}$)\")\n",
    "axs[0].set_ylabel(\"Brightness Temperature (K)\")\n",
    "\n",
    "axs[0].grid(True)\n",
    "\n",
    "deltaBIC_orig = m31_multigauss_bic_proj[region_slice].value - m31_thickHI_bic_proj[region_slice].value\n",
    "\n",
    "deltaBIC_matched = hdu_mgauss_matched[2].data[0] - hdu_thickHI_matched[2].data[0]\n",
    "\n",
    "_ = axs[1].hist(deltaBIC_orig.ravel(), density=True, label=r'0.42 km s$^{-1}$', alpha=0.5)\n",
    "_ = axs[1].hist(deltaBIC_matched.ravel(), density=True, label=r'2.4 km s$^{-1}$', alpha=0.5)\n",
    "\n",
    "axs[1].legend(frameon=True, loc='upper left')\n",
    "\n",
    "axs[1].set_ylabel(\"Normalized Histogram\")\n",
    "axs[1].set_xlabel(r\"$\\Delta {\\rm BIC} = {\\rm BIC}_{\\rm Gauss} - {\\rm BIC}_{\\rm Thick}$\")\n",
    "\n",
    "axs[1].grid(True)\n",
    "\n",
    "fig.subplots_adjust(hspace=0.25)\n",
    "\n",
    "if save_figures:\n",
    "    save_figure(fig, \"specres_comparison_deltaBIC_and_spec\", bbox_inches='tight', dpi=300)\n"
   ]
  },
  {
   "cell_type": "code",
   "execution_count": null,
   "metadata": {},
   "outputs": [],
   "source": [
    "from astropy.coordinates import SkyCoord\n",
    "dec, ra = matched_cube.world[0, 100, 100][1:]\n",
    "\n",
    "coord = SkyCoord(ra, dec)"
   ]
  },
  {
   "cell_type": "code",
   "execution_count": null,
   "metadata": {},
   "outputs": [],
   "source": [
    "coord.to_string('hmsdms')"
   ]
  },
  {
   "cell_type": "code",
   "execution_count": null,
   "metadata": {},
   "outputs": [],
   "source": []
  }
 ]
}